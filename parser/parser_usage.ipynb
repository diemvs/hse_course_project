{
 "cells": [
  {
   "cell_type": "code",
   "execution_count": 4,
   "metadata": {},
   "outputs": [],
   "source": [
    "from selenium import webdriver \n",
    "from selenium.webdriver.common.by import By\n",
    "from selenium.webdriver.common.keys import Keys\n",
    "import pandas as pd\n",
    "\n",
    "from selenium.webdriver.support.ui import WebDriverWait\n",
    "from selenium.webdriver.support import expected_conditions as EC"
   ]
  },
  {
   "cell_type": "code",
   "execution_count": 44,
   "metadata": {},
   "outputs": [],
   "source": [
    "def get_flat_images(images_cnt = 1000):\n",
    "    driver = webdriver.Chrome()\n",
    "\n",
    "    # create the pandas DataFrame\n",
    "    df = pd.DataFrame([], columns=['url'])\n",
    "\n",
    "    driver.get(\"https://www.cian.ru/kupit-kvartiru/\")\n",
    "    # finding flat list component\n",
    "    flat_list_ex = \"/html/body/div[1]/div/div[6]\"\n",
    "    flat_list = driver.find_element(By.XPATH, flat_list_ex)\n",
    "    # getting flat component\n",
    "    for flat in flat_list.find_elements(By.XPATH, '//div/div'):\n",
    "        # getting images list component\n",
    "        img_list = flat.find_element(By.XPATH, '//article/div[1]/a/div[1]/div/ul')\n",
    "        \n",
    "        for img in img_list.find_elements(By.XPATH, '//li/img'):\n",
    "            src = img.get_attribute('src')\n",
    "            \n",
    "            df.loc[-1] = src\n",
    "            df.index = df.index + 1\n",
    "            df = df.sort_index()\n",
    "             \n",
    "            if df.shape[0] == images_cnt:\n",
    "                return df\n",
    "    "
   ]
  },
  {
   "cell_type": "code",
   "execution_count": 45,
   "metadata": {},
   "outputs": [],
   "source": [
    "df = get_flat_images()"
   ]
  },
  {
   "cell_type": "code",
   "execution_count": 46,
   "metadata": {},
   "outputs": [],
   "source": [
    "df.to_csv('images.csv', sep='\\t', encoding='utf-8')"
   ]
  }
 ],
 "metadata": {
  "kernelspec": {
   "display_name": "base",
   "language": "python",
   "name": "python3"
  },
  "language_info": {
   "codemirror_mode": {
    "name": "ipython",
    "version": 3
   },
   "file_extension": ".py",
   "mimetype": "text/x-python",
   "name": "python",
   "nbconvert_exporter": "python",
   "pygments_lexer": "ipython3",
   "version": "3.11.7"
  }
 },
 "nbformat": 4,
 "nbformat_minor": 2
}
