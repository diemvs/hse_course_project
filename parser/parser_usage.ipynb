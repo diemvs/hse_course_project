{
 "cells": [
  {
   "cell_type": "code",
   "execution_count": 1,
   "metadata": {},
   "outputs": [],
   "source": [
    "from selenium import webdriver \n",
    "from selenium.webdriver.common.by import By\n",
    "from selenium.webdriver.common.keys import Keys\n",
    "import pandas as pd\n",
    "\n",
    "from selenium.webdriver.support.ui import WebDriverWait\n",
    "from selenium.webdriver.support import expected_conditions as EC"
   ]
  },
  {
   "cell_type": "code",
   "execution_count": 32,
   "metadata": {},
   "outputs": [],
   "source": [
    "def get_flat_images():\n",
    "    driver = webdriver.Chrome()\n",
    "\n",
    "    # create the pandas DataFrame\n",
    "    df = pd.DataFrame([], columns=['url'])\n",
    "\n",
    "    driver.get(\"https://www.cian.ru/kupit-kvartiru/\")\n",
    "    # finding flat list component\n",
    "    \n",
    "    flat_list_ex = \"/html/body/div[1]/div/div[6]\"\n",
    "    flat_list_component = driver.find_element(By.XPATH, flat_list_ex)\n",
    "    # getting flat component\n",
    "    flat_list = flat_list_component.find_elements(By.TAG_NAME, 'article')\n",
    "    \n",
    "    for flat in flat_list:\n",
    "        # getting images list component\n",
    "        # img_list = flat.find_element(By.XPATH, '//div[1]/a/div[1]/div/ul')\n",
    "        img_list = flat.find_elements(By.TAG_NAME, 'img')\n",
    "        \n",
    "        for img in img_list:\n",
    "            src = img.get_attribute('src')\n",
    "            \n",
    "            df.loc[-1] = src\n",
    "            df.index = df.index + 1\n",
    "            df = df.sort_index()\n",
    "             \n",
    "    return df\n",
    "    "
   ]
  },
  {
   "cell_type": "code",
   "execution_count": 33,
   "metadata": {},
   "outputs": [],
   "source": [
    "df = get_flat_images()"
   ]
  },
  {
   "cell_type": "code",
   "execution_count": 34,
   "metadata": {},
   "outputs": [
    {
     "data": {
      "text/html": [
       "<div>\n",
       "<style scoped>\n",
       "    .dataframe tbody tr th:only-of-type {\n",
       "        vertical-align: middle;\n",
       "    }\n",
       "\n",
       "    .dataframe tbody tr th {\n",
       "        vertical-align: top;\n",
       "    }\n",
       "\n",
       "    .dataframe thead th {\n",
       "        text-align: right;\n",
       "    }\n",
       "</style>\n",
       "<table border=\"1\" class=\"dataframe\">\n",
       "  <thead>\n",
       "    <tr style=\"text-align: right;\">\n",
       "      <th></th>\n",
       "      <th>url</th>\n",
       "    </tr>\n",
       "  </thead>\n",
       "  <tbody>\n",
       "    <tr>\n",
       "      <th>0</th>\n",
       "      <td>https://www.cian.ru/api/get-avatar/?i=33757916...</td>\n",
       "    </tr>\n",
       "    <tr>\n",
       "      <th>1</th>\n",
       "      <td>https://images.cdn-cian.ru/images/novostroyka-...</td>\n",
       "    </tr>\n",
       "    <tr>\n",
       "      <th>2</th>\n",
       "      <td>https://images.cdn-cian.ru/images/novostroyka-...</td>\n",
       "    </tr>\n",
       "    <tr>\n",
       "      <th>3</th>\n",
       "      <td>https://images.cdn-cian.ru/images/38/504/561/n...</td>\n",
       "    </tr>\n",
       "    <tr>\n",
       "      <th>4</th>\n",
       "      <td>https://images.cdn-cian.ru/images/novostroyka-...</td>\n",
       "    </tr>\n",
       "  </tbody>\n",
       "</table>\n",
       "</div>"
      ],
      "text/plain": [
       "                                                 url\n",
       "0  https://www.cian.ru/api/get-avatar/?i=33757916...\n",
       "1  https://images.cdn-cian.ru/images/novostroyka-...\n",
       "2  https://images.cdn-cian.ru/images/novostroyka-...\n",
       "3  https://images.cdn-cian.ru/images/38/504/561/n...\n",
       "4  https://images.cdn-cian.ru/images/novostroyka-..."
      ]
     },
     "execution_count": 34,
     "metadata": {},
     "output_type": "execute_result"
    }
   ],
   "source": [
    "df.head()"
   ]
  },
  {
   "cell_type": "code",
   "execution_count": 35,
   "metadata": {},
   "outputs": [
    {
     "data": {
      "text/plain": [
       "676"
      ]
     },
     "execution_count": 35,
     "metadata": {},
     "output_type": "execute_result"
    }
   ],
   "source": [
    "df.size"
   ]
  },
  {
   "cell_type": "code",
   "execution_count": 36,
   "metadata": {},
   "outputs": [],
   "source": [
    "df.to_csv('images.csv', sep=';', encoding='utf-8', header=False)"
   ]
  },
  {
   "cell_type": "code",
   "execution_count": 37,
   "metadata": {},
   "outputs": [],
   "source": [
    "import csv\n",
    "import requests\n",
    "import urllib.request"
   ]
  },
  {
   "cell_type": "code",
   "execution_count": 39,
   "metadata": {},
   "outputs": [],
   "source": [
    "with open('images.csv', 'r') as csvfile:\n",
    "    filedatareader = csv.reader(csvfile, delimiter=';', quotechar='|')\n",
    "    for row in filedatareader:\n",
    "        url = row[1]\n",
    "        if(len(url) > 0):\n",
    "            urllib.request.urlretrieve(url, f'images/{row[0]}.jpg')"
   ]
  }
 ],
 "metadata": {
  "kernelspec": {
   "display_name": "base",
   "language": "python",
   "name": "python3"
  },
  "language_info": {
   "codemirror_mode": {
    "name": "ipython",
    "version": 3
   },
   "file_extension": ".py",
   "mimetype": "text/x-python",
   "name": "python",
   "nbconvert_exporter": "python",
   "pygments_lexer": "ipython3",
   "version": "3.11.7"
  }
 },
 "nbformat": 4,
 "nbformat_minor": 2
}
